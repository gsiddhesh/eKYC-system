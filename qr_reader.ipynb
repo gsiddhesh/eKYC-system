{
 "cells": [
  {
   "cell_type": "code",
   "execution_count": 2,
   "metadata": {},
   "outputs": [],
   "source": [
    "import cv2\n",
    "from pyzbar.pyzbar import decode "
   ]
  },
  {
   "cell_type": "code",
   "execution_count": 9,
   "metadata": {},
   "outputs": [],
   "source": [
    "path=r\"C:\\Users\\SIDHESH\\Desktop\\ACADMICS\\MACHINE LEARNING STUFF\\PROJECTS\\Computer Vision\\eKYC system\\Final\\IMAGES\\sanni_qr.jpg\"\n",
    "img=cv2.imread(path,0)\n",
    "data=decode(img)"
   ]
  },
  {
   "cell_type": "code",
   "execution_count": 10,
   "metadata": {},
   "outputs": [
    {
     "name": "stdout",
     "output_type": "stream",
     "text": [
      "[Decoded(data=b'<QDA n=\"Sannidhi Sandeep Gorantiwar\" u=\"xxxxxxxx8160\" g=\"F\" d=\"28-03-2013\" a=\"gajanan mandir road,sneh nagar sai mandir ward,near shitla mata mandir,Chandrapur,Chandrapur,Maharashtra,442401\" x=\"\" s=\"cgTwH4uTDlTXVmYYmd/qt9bkBmyDpzP/EP+mNGcJN/9MchhwkEU1Y2Paift0eJEyQjnxjsehHOu+pHSogLnlwZQhIAwRyKQWRHBuxdKf8imT8MnS8D5D4TxdSfj8J1e9Aiq3KLYSKttjM3/vv0jOH8yMmad+ZsD8uqFw5Ia9zKYgMpY193Xv+fFcYrfffktTzIm9juvYCiikodqq6IRW32HKYWbjEpFCCyCx600/fYs+cDHUxTrvuseysV0LKwR9zMYDJFepq5GMkWTmNUYG1tP5RoQBmOBgRDSJVsAwZPMnGdFi3Qp+8vK22HN5tPNz7z5e9l4NS7CVBTl8Ae/5+A==\"/>', type='QRCODE', rect=Rect(left=608, top=1246, width=874, height=867), polygon=[Point(x=608, y=1255), Point(x=618, y=2113), Point(x=1482, y=2100), Point(x=1464, y=1246)], quality=1, orientation='UP')]\n"
     ]
    }
   ],
   "source": [
    "print(data)"
   ]
  }
 ],
 "metadata": {
  "kernelspec": {
   "display_name": "base",
   "language": "python",
   "name": "python3"
  },
  "language_info": {
   "codemirror_mode": {
    "name": "ipython",
    "version": 3
   },
   "file_extension": ".py",
   "mimetype": "text/x-python",
   "name": "python",
   "nbconvert_exporter": "python",
   "pygments_lexer": "ipython3",
   "version": "3.11.4"
  }
 },
 "nbformat": 4,
 "nbformat_minor": 2
}
